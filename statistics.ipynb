{
 "cells": [
  {
   "cell_type": "code",
   "execution_count": 4,
   "metadata": {},
   "outputs": [],
   "source": [
    "import pysam\n",
    "from functools import reduce\n",
    "import numpy as np\n",
    "import glob"
   ]
  },
  {
   "cell_type": "code",
   "execution_count": 29,
   "metadata": {},
   "outputs": [
    {
     "name": "stderr",
     "output_type": "stream",
     "text": [
      "[W::hts_idx_load3] The index file is older than the data file: /storage/holab/mito/kim/bam/chrM_dedup_SRR2431343.Aligned.sortedByCoord.out.bam.bam.bam.bai\n",
      "[W::hts_idx_load3] The index file is older than the data file: /storage/holab/mito/kim/bam/chrM_dedup_SRR2431344.Aligned.sortedByCoord.out.bam.bam.bam.bai\n",
      "[W::hts_idx_load3] The index file is older than the data file: /storage/holab/mito/kim/bam/chrM_dedup_SRR2431345.Aligned.sortedByCoord.out.bam.bam.bam.bai\n",
      "[W::hts_idx_load3] The index file is older than the data file: /storage/holab/mito/kim/bam/chrM_dedup_SRR2431346.Aligned.sortedByCoord.out.bam.bam.bam.bai\n",
      "[W::hts_idx_load3] The index file is older than the data file: /storage/holab/mito/kim/bam/chrM_dedup_SRR2431347.Aligned.sortedByCoord.out.bam.bam.bam.bai\n",
      "[W::hts_idx_load3] The index file is older than the data file: /storage/holab/mito/kim/bam/chrM_dedup_SRR2431348.Aligned.sortedByCoord.out.bam.bam.bam.bai\n",
      "[W::hts_idx_load3] The index file is older than the data file: /storage/holab/mito/kim/bam/chrM_dedup_SRR2431349.Aligned.sortedByCoord.out.bam.bam.bam.bai\n",
      "[W::hts_idx_load3] The index file is older than the data file: /storage/holab/mito/kim/bam/chrM_dedup_SRR2431350.Aligned.sortedByCoord.out.bam.bam.bam.bai\n",
      "[W::hts_idx_load3] The index file is older than the data file: /storage/holab/mito/kim/bam/chrM_dedup_SRR2431351.Aligned.sortedByCoord.out.bam.bam.bam.bai\n",
      "[W::hts_idx_load3] The index file is older than the data file: /storage/holab/mito/kim/bam/chrM_dedup_SRR2431352.Aligned.sortedByCoord.out.bam.bam.bam.bai\n",
      "[W::hts_idx_load3] The index file is older than the data file: /storage/holab/mito/kim/bam/chrM_dedup_SRR2431353.Aligned.sortedByCoord.out.bam.bam.bam.bai\n",
      "[W::hts_idx_load3] The index file is older than the data file: /storage/holab/mito/kim/bam/chrM_dedup_SRR2431354.Aligned.sortedByCoord.out.bam.bam.bam.bai\n",
      "[W::hts_idx_load3] The index file is older than the data file: /storage/holab/mito/kim/bam/chrM_dedup_SRR2431355.Aligned.sortedByCoord.out.bam.bam.bam.bai\n",
      "[W::hts_idx_load3] The index file is older than the data file: /storage/holab/mito/kim/bam/chrM_dedup_SRR2431356.Aligned.sortedByCoord.out.bam.bam.bam.bai\n",
      "[W::hts_idx_load3] The index file is older than the data file: /storage/holab/mito/kim/bam/chrM_dedup_SRR2431357.Aligned.sortedByCoord.out.bam.bam.bam.bai\n",
      "[W::hts_idx_load3] The index file is older than the data file: /storage/holab/mito/kim/bam/chrM_dedup_SRR2431358.Aligned.sortedByCoord.out.bam.bam.bam.bai\n",
      "[W::hts_idx_load3] The index file is older than the data file: /storage/holab/mito/kim/bam/chrM_dedup_SRR2431359.Aligned.sortedByCoord.out.bam.bam.bam.bai\n",
      "[W::hts_idx_load3] The index file is older than the data file: /storage/holab/mito/kim/bam/chrM_dedup_SRR2431360.Aligned.sortedByCoord.out.bam.bam.bam.bai\n",
      "[W::hts_idx_load3] The index file is older than the data file: /storage/holab/mito/kim/bam/chrM_dedup_SRR2431361.Aligned.sortedByCoord.out.bam.bam.bam.bai\n",
      "[W::hts_idx_load3] The index file is older than the data file: /storage/holab/mito/kim/bam/chrM_dedup_SRR2431362.Aligned.sortedByCoord.out.bam.bam.bam.bai\n",
      "[W::hts_idx_load3] The index file is older than the data file: /storage/holab/mito/kim/bam/chrM_dedup_SRR2431363.Aligned.sortedByCoord.out.bam.bam.bam.bai\n",
      "[W::hts_idx_load3] The index file is older than the data file: /storage/holab/mito/kim/bam/chrM_dedup_SRR2431364.Aligned.sortedByCoord.out.bam.bam.bam.bai\n",
      "[W::hts_idx_load3] The index file is older than the data file: /storage/holab/mito/kim/bam/chrM_dedup_SRR2431365.Aligned.sortedByCoord.out.bam.bam.bam.bai\n",
      "[W::hts_idx_load3] The index file is older than the data file: /storage/holab/mito/kim/bam/chrM_dedup_SRR2431366.Aligned.sortedByCoord.out.bam.bam.bam.bai\n",
      "[W::hts_idx_load3] The index file is older than the data file: /storage/holab/mito/kim/bam/chrM_dedup_SRR2431367.Aligned.sortedByCoord.out.bam.bam.bam.bai\n",
      "[W::hts_idx_load3] The index file is older than the data file: /storage/holab/mito/kim/bam/chrM_dedup_SRR2431368.Aligned.sortedByCoord.out.bam.bam.bam.bai\n",
      "[W::hts_idx_load3] The index file is older than the data file: /storage/holab/mito/kim/bam/chrM_dedup_SRR2431369.Aligned.sortedByCoord.out.bam.bam.bam.bai\n",
      "[W::hts_idx_load3] The index file is older than the data file: /storage/holab/mito/kim/bam/chrM_dedup_SRR2431370.Aligned.sortedByCoord.out.bam.bam.bam.bai\n",
      "[W::hts_idx_load3] The index file is older than the data file: /storage/holab/mito/kim/bam/chrM_dedup_SRR2431371.Aligned.sortedByCoord.out.bam.bam.bam.bai\n",
      "[W::hts_idx_load3] The index file is older than the data file: /storage/holab/mito/kim/bam/chrM_dedup_SRR2431372.Aligned.sortedByCoord.out.bam.bam.bam.bai\n",
      "[W::hts_idx_load3] The index file is older than the data file: /storage/holab/mito/kim/bam/chrM_dedup_SRR2431373.Aligned.sortedByCoord.out.bam.bam.bam.bai\n",
      "[W::hts_idx_load3] The index file is older than the data file: /storage/holab/mito/kim/bam/chrM_dedup_SRR2431374.Aligned.sortedByCoord.out.bam.bam.bam.bai\n",
      "[W::hts_idx_load3] The index file is older than the data file: /storage/holab/mito/kim/bam/chrM_dedup_SRR2431375.Aligned.sortedByCoord.out.bam.bam.bam.bai\n",
      "[W::hts_idx_load3] The index file is older than the data file: /storage/holab/mito/kim/bam/chrM_dedup_SRR2431376.Aligned.sortedByCoord.out.bam.bam.bam.bai\n",
      "[W::hts_idx_load3] The index file is older than the data file: /storage/holab/mito/kim/bam/chrM_dedup_SRR2431377.Aligned.sortedByCoord.out.bam.bam.bam.bai\n",
      "[W::hts_idx_load3] The index file is older than the data file: /storage/holab/mito/kim/bam/chrM_dedup_SRR2431378.Aligned.sortedByCoord.out.bam.bam.bam.bai\n",
      "[W::hts_idx_load3] The index file is older than the data file: /storage/holab/mito/kim/bam/chrM_dedup_SRR2431379.Aligned.sortedByCoord.out.bam.bam.bam.bai\n",
      "[W::hts_idx_load3] The index file is older than the data file: /storage/holab/mito/kim/bam/chrM_dedup_SRR2431380.Aligned.sortedByCoord.out.bam.bam.bam.bai\n",
      "[W::hts_idx_load3] The index file is older than the data file: /storage/holab/mito/kim/bam/chrM_dedup_SRR2431381.Aligned.sortedByCoord.out.bam.bam.bam.bai\n",
      "[W::hts_idx_load3] The index file is older than the data file: /storage/holab/mito/kim/bam/chrM_dedup_SRR2431382.Aligned.sortedByCoord.out.bam.bam.bam.bai\n",
      "[W::hts_idx_load3] The index file is older than the data file: /storage/holab/mito/kim/bam/chrM_dedup_SRR2431383.Aligned.sortedByCoord.out.bam.bam.bam.bai\n",
      "[W::hts_idx_load3] The index file is older than the data file: /storage/holab/mito/kim/bam/chrM_dedup_SRR2431384.Aligned.sortedByCoord.out.bam.bam.bam.bai\n",
      "[W::hts_idx_load3] The index file is older than the data file: /storage/holab/mito/kim/bam/chrM_dedup_SRR2431385.Aligned.sortedByCoord.out.bam.bam.bam.bai\n",
      "[W::hts_idx_load3] The index file is older than the data file: /storage/holab/mito/kim/bam/chrM_dedup_SRR2431386.Aligned.sortedByCoord.out.bam.bam.bam.bai\n",
      "[W::hts_idx_load3] The index file is older than the data file: /storage/holab/mito/kim/bam/chrM_dedup_SRR2431387.Aligned.sortedByCoord.out.bam.bam.bam.bai\n",
      "[W::hts_idx_load3] The index file is older than the data file: /storage/holab/mito/kim/bam/chrM_dedup_SRR2431388.Aligned.sortedByCoord.out.bam.bam.bam.bai\n",
      "[W::hts_idx_load3] The index file is older than the data file: /storage/holab/mito/kim/bam/chrM_dedup_SRR2431389.Aligned.sortedByCoord.out.bam.bam.bam.bai\n",
      "[W::hts_idx_load3] The index file is older than the data file: /storage/holab/mito/kim/bam/chrM_dedup_SRR2431390.Aligned.sortedByCoord.out.bam.bam.bam.bai\n",
      "[W::hts_idx_load3] The index file is older than the data file: /storage/holab/mito/kim/bam/chrM_dedup_SRR2431391.Aligned.sortedByCoord.out.bam.bam.bam.bai\n",
      "[W::hts_idx_load3] The index file is older than the data file: /storage/holab/mito/kim/bam/chrM_dedup_SRR2431392.Aligned.sortedByCoord.out.bam.bam.bam.bai\n",
      "[W::hts_idx_load3] The index file is older than the data file: /storage/holab/mito/kim/bam/chrM_dedup_SRR2431393.Aligned.sortedByCoord.out.bam.bam.bam.bai\n",
      "[W::hts_idx_load3] The index file is older than the data file: /storage/holab/mito/kim/bam/chrM_dedup_SRR2431394.Aligned.sortedByCoord.out.bam.bam.bam.bai\n",
      "[W::hts_idx_load3] The index file is older than the data file: /storage/holab/mito/kim/bam/chrM_dedup_SRR2431395.Aligned.sortedByCoord.out.bam.bam.bam.bai\n",
      "[W::hts_idx_load3] The index file is older than the data file: /storage/holab/mito/kim/bam/chrM_dedup_SRR2431396.Aligned.sortedByCoord.out.bam.bam.bam.bai\n",
      "[W::hts_idx_load3] The index file is older than the data file: /storage/holab/mito/kim/bam/chrM_dedup_SRR2431397.Aligned.sortedByCoord.out.bam.bam.bam.bai\n",
      "[W::hts_idx_load3] The index file is older than the data file: /storage/holab/mito/kim/bam/chrM_dedup_SRR2431398.Aligned.sortedByCoord.out.bam.bam.bam.bai\n",
      "[W::hts_idx_load3] The index file is older than the data file: /storage/holab/mito/kim/bam/chrM_dedup_SRR2431399.Aligned.sortedByCoord.out.bam.bam.bam.bai\n",
      "[W::hts_idx_load3] The index file is older than the data file: /storage/holab/mito/kim/bam/chrM_dedup_SRR2431400.Aligned.sortedByCoord.out.bam.bam.bam.bai\n",
      "[W::hts_idx_load3] The index file is older than the data file: /storage/holab/mito/kim/bam/chrM_dedup_SRR2431401.Aligned.sortedByCoord.out.bam.bam.bam.bai\n",
      "[W::hts_idx_load3] The index file is older than the data file: /storage/holab/mito/kim/bam/chrM_dedup_SRR2431402.Aligned.sortedByCoord.out.bam.bam.bam.bai\n",
      "[W::hts_idx_load3] The index file is older than the data file: /storage/holab/mito/kim/bam/chrM_dedup_SRR2431403.Aligned.sortedByCoord.out.bam.bam.bam.bai\n",
      "[W::hts_idx_load3] The index file is older than the data file: /storage/holab/mito/kim/bam/chrM_dedup_SRR2431404.Aligned.sortedByCoord.out.bam.bam.bam.bai\n",
      "[W::hts_idx_load3] The index file is older than the data file: /storage/holab/mito/kim/bam/chrM_dedup_SRR2431405.Aligned.sortedByCoord.out.bam.bam.bam.bai\n",
      "[W::hts_idx_load3] The index file is older than the data file: /storage/holab/mito/kim/bam/chrM_dedup_SRR2431406.Aligned.sortedByCoord.out.bam.bam.bam.bai\n",
      "[W::hts_idx_load3] The index file is older than the data file: /storage/holab/mito/kim/bam/chrM_dedup_SRR2431407.Aligned.sortedByCoord.out.bam.bam.bam.bai\n",
      "[W::hts_idx_load3] The index file is older than the data file: /storage/holab/mito/kim/bam/chrM_dedup_SRR2431408.Aligned.sortedByCoord.out.bam.bam.bam.bai\n",
      "[W::hts_idx_load3] The index file is older than the data file: /storage/holab/mito/kim/bam/chrM_dedup_SRR2431409.Aligned.sortedByCoord.out.bam.bam.bam.bai\n",
      "[W::hts_idx_load3] The index file is older than the data file: /storage/holab/mito/kim/bam/chrM_dedup_SRR2431410.Aligned.sortedByCoord.out.bam.bam.bam.bai\n",
      "[W::hts_idx_load3] The index file is older than the data file: /storage/holab/mito/kim/bam/chrM_dedup_SRR2431411.Aligned.sortedByCoord.out.bam.bam.bam.bai\n",
      "[W::hts_idx_load3] The index file is older than the data file: /storage/holab/mito/kim/bam/chrM_dedup_SRR2431412.Aligned.sortedByCoord.out.bam.bam.bam.bai\n",
      "[W::hts_idx_load3] The index file is older than the data file: /storage/holab/mito/kim/bam/chrM_dedup_SRR2431413.Aligned.sortedByCoord.out.bam.bam.bam.bai\n",
      "[W::hts_idx_load3] The index file is older than the data file: /storage/holab/mito/kim/bam/chrM_dedup_SRR2431414.Aligned.sortedByCoord.out.bam.bam.bam.bai\n",
      "[W::hts_idx_load3] The index file is older than the data file: /storage/holab/mito/kim/bam/chrM_dedup_SRR2431415.Aligned.sortedByCoord.out.bam.bam.bam.bai\n",
      "[W::hts_idx_load3] The index file is older than the data file: /storage/holab/mito/kim/bam/chrM_dedup_SRR2431416.Aligned.sortedByCoord.out.bam.bam.bam.bai\n",
      "[W::hts_idx_load3] The index file is older than the data file: /storage/holab/mito/kim/bam/chrM_dedup_SRR2431417.Aligned.sortedByCoord.out.bam.bam.bam.bai\n",
      "[W::hts_idx_load3] The index file is older than the data file: /storage/holab/mito/kim/bam/chrM_dedup_SRR2431418.Aligned.sortedByCoord.out.bam.bam.bam.bai\n",
      "[W::hts_idx_load3] The index file is older than the data file: /storage/holab/mito/kim/bam/chrM_dedup_SRR2431419.Aligned.sortedByCoord.out.bam.bam.bam.bai\n",
      "[W::hts_idx_load3] The index file is older than the data file: /storage/holab/mito/kim/bam/chrM_dedup_SRR2431420.Aligned.sortedByCoord.out.bam.bam.bam.bai\n",
      "[W::hts_idx_load3] The index file is older than the data file: /storage/holab/mito/kim/bam/chrM_dedup_SRR2431421.Aligned.sortedByCoord.out.bam.bam.bam.bai\n",
      "[W::hts_idx_load3] The index file is older than the data file: /storage/holab/mito/kim/bam/chrM_dedup_SRR2431422.Aligned.sortedByCoord.out.bam.bam.bam.bai\n",
      "[W::hts_idx_load3] The index file is older than the data file: /storage/holab/mito/kim/bam/chrM_dedup_SRR2431423.Aligned.sortedByCoord.out.bam.bam.bam.bai\n",
      "[W::hts_idx_load3] The index file is older than the data file: /storage/holab/mito/kim/bam/chrM_dedup_SRR2431424.Aligned.sortedByCoord.out.bam.bam.bam.bai\n",
      "[W::hts_idx_load3] The index file is older than the data file: /storage/holab/mito/kim/bam/chrM_dedup_SRR2431425.Aligned.sortedByCoord.out.bam.bam.bam.bai\n",
      "[W::hts_idx_load3] The index file is older than the data file: /storage/holab/mito/kim/bam/chrM_dedup_SRR2431426.Aligned.sortedByCoord.out.bam.bam.bam.bai\n",
      "[W::hts_idx_load3] The index file is older than the data file: /storage/holab/mito/kim/bam/chrM_dedup_SRR2431427.Aligned.sortedByCoord.out.bam.bam.bam.bai\n",
      "[W::hts_idx_load3] The index file is older than the data file: /storage/holab/mito/kim/bam/chrM_dedup_SRR2431428.Aligned.sortedByCoord.out.bam.bam.bam.bai\n",
      "[W::hts_idx_load3] The index file is older than the data file: /storage/holab/mito/kim/bam/chrM_dedup_SRR2431429.Aligned.sortedByCoord.out.bam.bam.bam.bai\n",
      "[W::hts_idx_load3] The index file is older than the data file: /storage/holab/mito/kim/bam/chrM_dedup_SRR2431430.Aligned.sortedByCoord.out.bam.bam.bam.bai\n",
      "[W::hts_idx_load3] The index file is older than the data file: /storage/holab/mito/kim/bam/chrM_dedup_SRR2431431.Aligned.sortedByCoord.out.bam.bam.bam.bai\n",
      "[W::hts_idx_load3] The index file is older than the data file: /storage/holab/mito/kim/bam/chrM_dedup_SRR2431432.Aligned.sortedByCoord.out.bam.bam.bam.bai\n",
      "[W::hts_idx_load3] The index file is older than the data file: /storage/holab/mito/kim/bam/chrM_dedup_SRR2431433.Aligned.sortedByCoord.out.bam.bam.bam.bai\n",
      "[W::hts_idx_load3] The index file is older than the data file: /storage/holab/mito/kim/bam/chrM_dedup_SRR2431434.Aligned.sortedByCoord.out.bam.bam.bam.bai\n",
      "[W::hts_idx_load3] The index file is older than the data file: /storage/holab/mito/kim/bam/chrM_dedup_SRR2431435.Aligned.sortedByCoord.out.bam.bam.bam.bai\n",
      "[W::hts_idx_load3] The index file is older than the data file: /storage/holab/mito/kim/bam/chrM_dedup_SRR2431436.Aligned.sortedByCoord.out.bam.bam.bam.bai\n",
      "[W::hts_idx_load3] The index file is older than the data file: /storage/holab/mito/kim/bam/chrM_dedup_SRR2431437.Aligned.sortedByCoord.out.bam.bam.bam.bai\n",
      "[W::hts_idx_load3] The index file is older than the data file: /storage/holab/mito/kim/bam/chrM_dedup_SRR2431438.Aligned.sortedByCoord.out.bam.bam.bam.bai\n",
      "[W::hts_idx_load3] The index file is older than the data file: /storage/holab/mito/kim/bam/chrM_dedup_SRR2431439.Aligned.sortedByCoord.out.bam.bam.bam.bai\n",
      "[W::hts_idx_load3] The index file is older than the data file: /storage/holab/mito/kim/bam/chrM_dedup_SRR2431440.Aligned.sortedByCoord.out.bam.bam.bam.bai\n",
      "[W::hts_idx_load3] The index file is older than the data file: /storage/holab/mito/kim/bam/chrM_dedup_SRR2431441.Aligned.sortedByCoord.out.bam.bam.bam.bai\n",
      "[W::hts_idx_load3] The index file is older than the data file: /storage/holab/mito/kim/bam/chrM_dedup_SRR2431442.Aligned.sortedByCoord.out.bam.bam.bam.bai\n",
      "[W::hts_idx_load3] The index file is older than the data file: /storage/holab/mito/kim/bam/chrM_dedup_SRR2431443.Aligned.sortedByCoord.out.bam.bam.bam.bai\n",
      "[W::hts_idx_load3] The index file is older than the data file: /storage/holab/mito/kim/bam/chrM_dedup_SRR2431444.Aligned.sortedByCoord.out.bam.bam.bam.bai\n",
      "[W::hts_idx_load3] The index file is older than the data file: /storage/holab/mito/kim/bam/chrM_dedup_SRR2431445.Aligned.sortedByCoord.out.bam.bam.bam.bai\n",
      "[W::hts_idx_load3] The index file is older than the data file: /storage/holab/mito/kim/bam/chrM_dedup_SRR2431446.Aligned.sortedByCoord.out.bam.bam.bam.bai\n",
      "[W::hts_idx_load3] The index file is older than the data file: /storage/holab/mito/kim/bam/chrM_dedup_SRR2431447.Aligned.sortedByCoord.out.bam.bam.bam.bai\n",
      "[W::hts_idx_load3] The index file is older than the data file: /storage/holab/mito/kim/bam/chrM_dedup_SRR2431448.Aligned.sortedByCoord.out.bam.bam.bam.bai\n",
      "[W::hts_idx_load3] The index file is older than the data file: /storage/holab/mito/kim/bam/chrM_dedup_SRR2431449.Aligned.sortedByCoord.out.bam.bam.bam.bai\n",
      "[W::hts_idx_load3] The index file is older than the data file: /storage/holab/mito/kim/bam/chrM_dedup_SRR2431450.Aligned.sortedByCoord.out.bam.bam.bam.bai\n",
      "[W::hts_idx_load3] The index file is older than the data file: /storage/holab/mito/kim/bam/chrM_dedup_SRR2431451.Aligned.sortedByCoord.out.bam.bam.bam.bai\n",
      "[W::hts_idx_load3] The index file is older than the data file: /storage/holab/mito/kim/bam/chrM_dedup_SRR2431452.Aligned.sortedByCoord.out.bam.bam.bam.bai\n",
      "[W::hts_idx_load3] The index file is older than the data file: /storage/holab/mito/kim/bam/chrM_dedup_SRR2431453.Aligned.sortedByCoord.out.bam.bam.bam.bai\n",
      "[W::hts_idx_load3] The index file is older than the data file: /storage/holab/mito/kim/bam/chrM_dedup_SRR2431454.Aligned.sortedByCoord.out.bam.bam.bam.bai\n",
      "[W::hts_idx_load3] The index file is older than the data file: /storage/holab/mito/kim/bam/chrM_dedup_SRR2431455.Aligned.sortedByCoord.out.bam.bam.bam.bai\n",
      "[W::hts_idx_load3] The index file is older than the data file: /storage/holab/mito/kim/bam/chrM_dedup_SRR2431456.Aligned.sortedByCoord.out.bam.bam.bam.bai\n",
      "[W::hts_idx_load3] The index file is older than the data file: /storage/holab/mito/kim/bam/chrM_dedup_SRR2431457.Aligned.sortedByCoord.out.bam.bam.bam.bai\n",
      "[W::hts_idx_load3] The index file is older than the data file: /storage/holab/mito/kim/bam/chrM_dedup_SRR2431458.Aligned.sortedByCoord.out.bam.bam.bam.bai\n",
      "[W::hts_idx_load3] The index file is older than the data file: /storage/holab/mito/kim/bam/chrM_dedup_SRR2431459.Aligned.sortedByCoord.out.bam.bam.bam.bai\n",
      "[W::hts_idx_load3] The index file is older than the data file: /storage/holab/mito/kim/bam/chrM_dedup_SRR2431460.Aligned.sortedByCoord.out.bam.bam.bam.bai\n",
      "[W::hts_idx_load3] The index file is older than the data file: /storage/holab/mito/kim/bam/chrM_dedup_SRR2431461.Aligned.sortedByCoord.out.bam.bam.bam.bai\n",
      "[W::hts_idx_load3] The index file is older than the data file: /storage/holab/mito/kim/bam/chrM_dedup_SRR2431462.Aligned.sortedByCoord.out.bam.bam.bam.bai\n",
      "[W::hts_idx_load3] The index file is older than the data file: /storage/holab/mito/kim/bam/chrM_dedup_SRR2431463.Aligned.sortedByCoord.out.bam.bam.bam.bai\n"
     ]
    }
   ],
   "source": [
    "bam_list = glob.glob('/storage/holab/mito/kim/bam/*.bam')\n",
    "mt_reads = []\n",
    "\n",
    "for bam_file in bam_list:\n",
    "    mt_reads.append(int(list(filter(lambda x:'chrM' in x, pysam.idxstats(bam_file).strip().split('\\n')))[0].split('\\t')[2]))"
   ]
  },
  {
   "cell_type": "code",
   "execution_count": 30,
   "metadata": {},
   "outputs": [
    {
     "data": {
      "text/plain": [
       "(194214.0, 234293.9173553719)"
      ]
     },
     "execution_count": 30,
     "metadata": {},
     "output_type": "execute_result"
    }
   ],
   "source": [
    "np.median(mt_reads), np.mean(mt_reads)"
   ]
  },
  {
   "cell_type": "code",
   "execution_count": 33,
   "metadata": {},
   "outputs": [
    {
     "name": "stderr",
     "output_type": "stream",
     "text": [
      "[W::hts_idx_load3] The index file is older than the data file: /storage/holab/mito/fibroblast/dedup/dedup_ERR2806090.Aligned.sortedByCoord.out.bam.bam.bai\n",
      "[W::hts_idx_load3] The index file is older than the data file: /storage/holab/mito/fibroblast/dedup/dedup_ERR2806093.Aligned.sortedByCoord.out.bam.bam.bai\n",
      "[W::hts_idx_load3] The index file is older than the data file: /storage/holab/mito/fibroblast/dedup/dedup_ERR2806094.Aligned.sortedByCoord.out.bam.bam.bai\n",
      "[W::hts_idx_load3] The index file is older than the data file: /storage/holab/mito/fibroblast/dedup/dedup_ERR2806095.Aligned.sortedByCoord.out.bam.bam.bai\n",
      "[W::hts_idx_load3] The index file is older than the data file: /storage/holab/mito/fibroblast/dedup/dedup_ERR2806096.Aligned.sortedByCoord.out.bam.bam.bai\n",
      "[W::hts_idx_load3] The index file is older than the data file: /storage/holab/mito/fibroblast/dedup/dedup_ERR2806097.Aligned.sortedByCoord.out.bam.bam.bai\n",
      "[W::hts_idx_load3] The index file is older than the data file: /storage/holab/mito/fibroblast/dedup/dedup_ERR2806099.Aligned.sortedByCoord.out.bam.bam.bai\n",
      "[W::hts_idx_load3] The index file is older than the data file: /storage/holab/mito/fibroblast/dedup/dedup_ERR2806100.Aligned.sortedByCoord.out.bam.bam.bai\n",
      "[W::hts_idx_load3] The index file is older than the data file: /storage/holab/mito/fibroblast/dedup/dedup_ERR2806101.Aligned.sortedByCoord.out.bam.bam.bai\n",
      "[W::hts_idx_load3] The index file is older than the data file: /storage/holab/mito/fibroblast/dedup/dedup_ERR2806102.Aligned.sortedByCoord.out.bam.bam.bai\n",
      "[W::hts_idx_load3] The index file is older than the data file: /storage/holab/mito/fibroblast/dedup/dedup_ERR2806103.Aligned.sortedByCoord.out.bam.bam.bai\n",
      "[W::hts_idx_load3] The index file is older than the data file: /storage/holab/mito/fibroblast/dedup/dedup_ERR2806105.Aligned.sortedByCoord.out.bam.bam.bai\n",
      "[W::hts_idx_load3] The index file is older than the data file: /storage/holab/mito/fibroblast/dedup/dedup_ERR2806107.Aligned.sortedByCoord.out.bam.bam.bai\n",
      "[W::hts_idx_load3] The index file is older than the data file: /storage/holab/mito/fibroblast/dedup/dedup_ERR2806109.Aligned.sortedByCoord.out.bam.bam.bai\n",
      "[W::hts_idx_load3] The index file is older than the data file: /storage/holab/mito/fibroblast/dedup/dedup_ERR2806111.Aligned.sortedByCoord.out.bam.bam.bai\n",
      "[W::hts_idx_load3] The index file is older than the data file: /storage/holab/mito/fibroblast/dedup/dedup_ERR2806113.Aligned.sortedByCoord.out.bam.bam.bai\n",
      "[W::hts_idx_load3] The index file is older than the data file: /storage/holab/mito/fibroblast/dedup/dedup_ERR2806115.Aligned.sortedByCoord.out.bam.bam.bai\n"
     ]
    }
   ],
   "source": [
    "bam_list = glob.glob('/storage/holab/mito/fibroblast/dedup/dedup_*.bam')\n",
    "mt_reads = []\n",
    "\n",
    "for bam_file in bam_list:\n",
    "    mt_reads.append(int(list(filter(lambda x:'chrM' in x, pysam.idxstats(bam_file).strip().split('\\n')))[0].split('\\t')[2]))"
   ]
  },
  {
   "cell_type": "code",
   "execution_count": 34,
   "metadata": {},
   "outputs": [
    {
     "data": {
      "text/plain": [
       "(83, 27334.0, 29393.493975903613)"
      ]
     },
     "execution_count": 34,
     "metadata": {},
     "output_type": "execute_result"
    }
   ],
   "source": [
    "len(mt_reads),np.median(mt_reads), np.mean(mt_reads)"
   ]
  }
 ],
 "metadata": {
  "interpreter": {
   "hash": "396bf10c24a214331e229829ff8522bb2316405f7c5f1f8c45f5e1504e4b21d3"
  },
  "kernelspec": {
   "display_name": "Python 3.8.10 64-bit ('pepe': conda)",
   "language": "python",
   "name": "python3"
  },
  "language_info": {
   "codemirror_mode": {
    "name": "ipython",
    "version": 3
   },
   "file_extension": ".py",
   "mimetype": "text/x-python",
   "name": "python",
   "nbconvert_exporter": "python",
   "pygments_lexer": "ipython3",
   "version": "3.8.10"
  },
  "orig_nbformat": 4
 },
 "nbformat": 4,
 "nbformat_minor": 2
}
